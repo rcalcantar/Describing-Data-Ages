{
 "cells": [
  {
   "cell_type": "code",
   "execution_count": 6,
   "metadata": {},
   "outputs": [
    {
     "name": "stdout",
     "output_type": "stream",
     "text": [
      "Mean: 9.857142857142858\n",
      "Median: 10.0\n",
      "Mode: 8\n",
      "Variance: 6.408163265306122\n",
      "Standard Deviation: 2.531435020952764\n",
      "Standard Error: 1.0334540197243194\n"
     ]
    }
   ],
   "source": [
    "import numpy as np\n",
    "import statistics\n",
    "brady_ages = [14, 12, 11, 10, 8, 6, 8]\n",
    "print(\"Mean:\",np.mean(brady_ages))\n",
    "print('Median:',np.median(brady_ages))\n",
    "print('Mode:',statistics.mode(brady_ages))\n",
    "print('Variance:',np.var(brady_ages))\n",
    "print('Standard Deviation:',np.std(brady_ages))\n",
    "print('Standard Error:',np.std(brady_ages / np.sqrt(len(brady_ages)-1)))"
   ]
  },
  {
   "cell_type": "code",
   "execution_count": 7,
   "metadata": {},
   "outputs": [],
   "source": [
    "#I would pick mean as my central tendency and standard deviation as my variance"
   ]
  },
  {
   "cell_type": "code",
   "execution_count": 8,
   "metadata": {},
   "outputs": [
    {
     "name": "stdout",
     "output_type": "stream",
     "text": [
      "Mean: 10.0\n",
      "Median: 10.0\n",
      "Mode: 8\n",
      "Variance: 5.428571428571429\n",
      "Standard Deviation: 2.32992949004287\n",
      "Standard Error: 0.951189731211342\n"
     ]
    }
   ],
   "source": [
    "brady_ages2 = [14, 12, 11, 10, 8, 7, 8]\n",
    "print('Mean:',np.mean(brady_ages2))\n",
    "print('Median:',np.median(brady_ages2))\n",
    "print('Mode:',statistics.mode(brady_ages2))\n",
    "print('Variance:',np.var(brady_ages2))\n",
    "print('Standard Deviation:',np.std(brady_ages2))\n",
    "print('Standard Error:',np.std(brady_ages2 / np.sqrt(len(brady_ages2)-1)))"
   ]
  },
  {
   "cell_type": "code",
   "execution_count": 9,
   "metadata": {},
   "outputs": [
    {
     "name": "stdout",
     "output_type": "stream",
     "text": [
      "Mean: 9.0\n",
      "Median: 10.0\n",
      "There is no mode.\n",
      "Variance: 15.428571428571429\n",
      "Standard Deviation: 3.927922024247863\n",
      "Standard Error: 1.6035674514745466\n"
     ]
    }
   ],
   "source": [
    "brady_ages3 = [14, 12, 11, 10, 8, 7, 1]\n",
    "print('Mean:',np.mean(brady_ages3))\n",
    "print('Median:',np.median(brady_ages3))\n",
    "#print('Mode:',statistics.mode(brady_ages3))\n",
    "print('There is no mode.')\n",
    "print('Variance:',np.var(brady_ages3))\n",
    "print('Standard Deviation:',np.std(brady_ages3))\n",
    "print('Standard Error:',np.std(brady_ages3 / np.sqrt(len(brady_ages3)-1)))"
   ]
  },
  {
   "cell_type": "code",
   "execution_count": null,
   "metadata": {},
   "outputs": [],
   "source": []
  }
 ],
 "metadata": {
  "kernelspec": {
   "display_name": "Python 3",
   "language": "python",
   "name": "python3"
  },
  "language_info": {
   "codemirror_mode": {
    "name": "ipython",
    "version": 3
   },
   "file_extension": ".py",
   "mimetype": "text/x-python",
   "name": "python",
   "nbconvert_exporter": "python",
   "pygments_lexer": "ipython3",
   "version": "3.7.0"
  }
 },
 "nbformat": 4,
 "nbformat_minor": 2
}
